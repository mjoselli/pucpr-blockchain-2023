{
  "nbformat": 4,
  "nbformat_minor": 0,
  "metadata": {
    "colab": {
      "provenance": [],
      "authorship_tag": "ABX9TyPQU26H6E9ZCGrpVlRSQQZI",
      "include_colab_link": true
    },
    "kernelspec": {
      "name": "python3",
      "display_name": "Python 3"
    },
    "language_info": {
      "name": "python"
    }
  },
  "cells": [
    {
      "cell_type": "markdown",
      "metadata": {
        "id": "view-in-github",
        "colab_type": "text"
      },
      "source": [
        "<a href=\"https://colab.research.google.com/github/mjoselli/pucpr-blockchain-2023/blob/main/CrytografiaAssimetrica.ipynb\" target=\"_parent\"><img src=\"https://colab.research.google.com/assets/colab-badge.svg\" alt=\"Open In Colab\"/></a>"
      ]
    },
    {
      "cell_type": "markdown",
      "source": [
        "# Blockchain\n",
        "\n",
        "\n",
        "---\n",
        "\n",
        "\n",
        "# Exercicio 1 - Assinatura Assimetrica\n",
        "1) Veja a documentação do pacote cryptografhy:\n",
        "https://cryptography.io/en/latest/hazmat/primitives/asymmetric/\n",
        "\n",
        "Usando o pacote cryptografhy crie 3 funções;\n",
        "\n",
        "Outra função que verifica se a mensagem foi assinada de forma correta\n",
        "\n",
        "\n",
        "*   Que cria uma chave publica e privada usando o RSA;\n",
        "\n",
        "```python\n",
        "def gerar_chaves():\n",
        "  privada = 'aaa'\n",
        "  publica = 'bbbb'\n",
        "  return privada, publica\n",
        "```\n",
        "\n",
        "*   Uma função que assina uma mensagem usando a chave privada;\n",
        "\n",
        "```python\n",
        "def assinar(msg, privada):\n",
        "  msg_assinada = '23rfehy54%'\n",
        "  return msg_assinada\n",
        "```\n",
        "*   Outra função que verifica se a mensagem foi assinada de forma correta;\n",
        "\n",
        "```python\n",
        "def verificar(msg, publica):\n",
        "  return False\n",
        "```\n",
        "\n",
        "\n",
        "Teste as funçoes utilizando o seguinte código abaixo:\n",
        "```python\n",
        "privada,publica = gerar_chaves()\n",
        "print(privada)\n",
        "print(publica)\n",
        "msg = \"Mensagem de teste\"\n",
        "msg_assinada = assinar(msg, privada)\n",
        "print(msg_assinada)\n",
        "\n",
        "if verificar(msg, msg_assinada, publica):\n",
        "    print(\"Successo! Assinatura correta\")\n",
        "else:\n",
        "    print (\"ERRO! Assinatura incorreta\")\n",
        "\n",
        "privada2, publica2 = gerar_chaves()\n",
        "\n",
        "msg_assinada2 = assinar(msg, privada2)\n",
        "\n",
        "if verificar(msg, msg_assinada2, publica2):\n",
        "    print(\"ERRO! Assinatura incorreca foi aceita!\")\n",
        "else:\n",
        "    print(\"Successo! Assinatura incorreta foi rejeitada\")\n",
        "\n",
        "msg_adulterada = msg + \"Q\"\n",
        "if  verificar(msg_adulterada, msg_assinada, publica):\n",
        "    print(\"ERRO! Messagem adulterada foi validade!\")\n",
        "else:\n",
        "    print(\"Successo! Adulteracao foi detectada\")\n",
        "```"
      ],
      "metadata": {
        "id": "f9ig_1YMyIKt"
      }
    }
  ]
}